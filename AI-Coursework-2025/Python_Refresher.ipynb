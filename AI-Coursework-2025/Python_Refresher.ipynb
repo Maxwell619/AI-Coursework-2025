{
 "cells": [
  {
   "cell_type": "markdown",
   "metadata": {},
   "source": [
    "1. Write a program that asks the user for a number of days. The program then\n",
    "prints out the number of seconds in the amount of days given"
   ]
  },
  {
   "cell_type": "code",
   "execution_count": 4,
   "metadata": {},
   "outputs": [
    {
     "name": "stdout",
     "output_type": "stream",
     "text": [
      "There are 864000 seconds in 10 days.\n"
     ]
    }
   ],
   "source": [
    "days = int(input(\"Enter number of days: \")) # Get user input for number of days\n",
    "seconds = days * 24 * 60 * 60 # Calculate seconds in the given days\n",
    "print(f\"There are {seconds} seconds in {days} days.\")# Print the result\n"
   ]
  },
  {
   "cell_type": "markdown",
   "metadata": {},
   "source": [
    "2. Write a program that asks a user to input the radius then the program calculates the volume of a sphere (the formula for the volume is (4/3)πr3).\n",
    "Use the exponential operator in python to compute (r3)."
   ]
  },
  {
   "cell_type": "code",
   "execution_count": 6,
   "metadata": {},
   "outputs": [
    {
     "name": "stdout",
     "output_type": "stream",
     "text": [
      "The volume of the sphere with radius 12.0 is 7238.229473870882.\n"
     ]
    }
   ],
   "source": [
    "import math # Import math module to access pi \n",
    "radius = float(input(\"Enter the radius of the sphere: \")) # Get user input for radius\n",
    "volume = (4/3) * math.pi * (radius ** 3) # Calculate volume of the sphere\n",
    "print(f\"The volume of the sphere with radius {radius} is {volume}.\") # Print the result"
   ]
  },
  {
   "cell_type": "markdown",
   "metadata": {},
   "source": [
    "3. Using functions, write a program to compute the area and perimeter of a square. The program should ask the user to enter a number corresponding to the side length of the square and display the area and perimeter of the square."
   ]
  },
  {
   "cell_type": "code",
   "execution_count": 7,
   "metadata": {},
   "outputs": [
    {
     "name": "stdout",
     "output_type": "stream",
     "text": [
      "The area of the square is 400.0 and the perimeter is 80.0.\n"
     ]
    }
   ],
   "source": [
    "side=input(\"Enter length: \") # Get user input for side length\n",
    "area= float(side)**2 # Calculate area of the square\n",
    "perimeter= 4*float(side) # Calculate perimeter of the square\n",
    "print(f\"The area of the square is {area} and the perimeter is {perimeter}.\") # Print the result"
   ]
  },
  {
   "cell_type": "markdown",
   "metadata": {},
   "source": [
    "4. Write a program using functions that determines whether a character input by a user is uppercase or lower case."
   ]
  },
  {
   "cell_type": "code",
   "execution_count": 8,
   "metadata": {},
   "outputs": [
    {
     "name": "stdout",
     "output_type": "stream",
     "text": [
      "The character 'A' is uppercase.\n"
     ]
    }
   ],
   "source": [
    "def check_case(char): # Define a function to check case\n",
    "    if char.isupper(): # Check if character is uppercase\n",
    "        return \"uppercase\"\n",
    "    elif char.islower(): # Check if character is lowercase\n",
    "        return \"lowercase\"\n",
    "    else:\n",
    "        return \"not a letter\"\n",
    "char = input(\"Enter a character: \") # Get user input for character\n",
    "result = check_case(char) # Call the function and store the result\n",
    "print(f\"The character '{char}' is {result}.\") # Print the result\n",
    "    \n",
    "  "
   ]
  },
  {
   "cell_type": "markdown",
   "metadata": {},
   "source": [
    "5. The following is pseudocode for a program being designed. Write the Python program equivalent of the same.\n",
    "BEGIN\n",
    "SET x TO 0, y TO 20\n",
    "REPEAT\n",
    "SUBTRACT 4 FROM y\n",
    "ADD 2/y TO x\n",
    "UNTIL\n",
    "y IS LESS THAN 6\n",
    "DISPLAY x\n",
    "END\n"
   ]
  },
  {
   "cell_type": "code",
   "execution_count": 9,
   "metadata": {},
   "outputs": [
    {
     "name": "stdout",
     "output_type": "stream",
     "text": [
      "1.0416666666666665\n"
     ]
    }
   ],
   "source": [
    "x = 0 # Initialize x to 0\n",
    "y = 20 # Initialize y to 20\n",
    "while y >= 6: # loop until y is less than or equal to 6\n",
    "    y = y - 4 # Decrement 4 from y\n",
    "    x = x + 2 / y # Increment 2/y to x\n",
    "print(x)\n"
   ]
  },
  {
   "cell_type": "markdown",
   "metadata": {},
   "source": [
    "6. Write a Python program that does the following:\n",
    "• Uses a loop for a user to continually input 5 values to populate an array.\n",
    "• Calculates and displays the average of the values input into the array."
   ]
  },
  {
   "cell_type": "code",
   "execution_count": 1,
   "metadata": {},
   "outputs": [
    {
     "name": "stdout",
     "output_type": "stream",
     "text": [
      "The average of the entered values is 4.0.\n"
     ]
    }
   ],
   "source": [
    "values = [] # Initialize an empty list to store values\n",
    "for i in range(5): # Loop 5 times to get user input\n",
    "    value = int(input(f\"Enter value {i+1}: \")) # Get user input\n",
    "    values.append(value) # Add the value to the list\n",
    "average = sum(values) / len(values) # Calculate the average of the values\n",
    "print(f\"The average of the entered values is {average}.\") # Print the average\n",
    " "
   ]
  }
 ],
 "metadata": {
  "kernelspec": {
   "display_name": "Python 3",
   "language": "python",
   "name": "python3"
  },
  "language_info": {
   "codemirror_mode": {
    "name": "ipython",
    "version": 3
   },
   "file_extension": ".py",
   "mimetype": "text/x-python",
   "name": "python",
   "nbconvert_exporter": "python",
   "pygments_lexer": "ipython3",
   "version": "3.11.4"
  },
  "orig_nbformat": 4
 },
 "nbformat": 4,
 "nbformat_minor": 2
}
